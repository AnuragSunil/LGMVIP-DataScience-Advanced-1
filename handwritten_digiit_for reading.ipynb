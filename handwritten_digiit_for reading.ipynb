{
 "cells": [
  {
   "cell_type": "markdown",
   "id": "b137976b-3b97-4e48-b1e0-69794f8ba23d",
   "metadata": {},
   "source": [
    "# MNIST Dataset\n",
    "\n",
    "## Overview\n",
    "\n",
    "The MNIST (Modified National Institute of Standards and Technology) dataset is one of the most popular datasets in the field of machine learning and computer vision. It is widely used for training and testing image processing systems and machine learning algorithms. The dataset consists of handwritten digit images and is often used as a benchmark for evaluating models.\n",
    "\n",
    "## Dataset Details\n",
    "\n",
    "- **Number of Samples:** 70,000 images\n",
    "  - **Training Set:** 60,000 images\n",
    "  - **Test Set:** 10,000 images\n",
    "\n",
    "- **Image Details:**\n",
    "  - **Image Size:** 28x28 pixels\n",
    "  - **Color Channels:** 1 (Grayscale)\n",
    "  - **Pixel Values:** 0 to 255 (0 represents black, 255 represents white)\n",
    "\n",
    "- **Classes:**\n",
    "  - The dataset includes images of digits from 0 to 9, making a total of 10 classes.\n",
    "\n",
    "## Data Format\n",
    "\n",
    "Each image is represented as a 28x28 matrix of pixel values. The dataset is usually provided in two parts: the training set and the test set. Each part consists of images and their corresponding labels.\n",
    "\n",
    "- **Training Set:**\n",
    "  - **Images:** 60,000 grayscale images of 28x28 pixels each.\n",
    "  - **Labels:** Corresponding labels for each image, indicating the digit (0-9).\n",
    "\n",
    "- **Test Set:**\n",
    "  - **Images:** 10,000 grayscale images of 28x28 pixels each.\n",
    "  - **Labels:** Corresponding labels for each image, indicating the digit (0-9).\n"
   ]
  },
  {
   "cell_type": "markdown",
   "id": "489a2f65-446c-4b78-8748-70119981643f",
   "metadata": {},
   "source": [
    "## Importing Libraries"
   ]
  },
  {
   "cell_type": "code",
   "execution_count": 1,
   "id": "dcce111a-e577-435a-8135-21c8b9e32c9c",
   "metadata": {},
   "outputs": [],
   "source": [
    "import keras\n",
    "from keras.datasets import mnist\n",
    "from keras.layers import Conv2D, MaxPooling2D\n",
    "from keras.layers import Dense, Flatten\n",
    "from keras.models import Sequential\n",
    "\n",
    "import pandas as pd\n",
    "import numpy as np\n",
    "import matplotlib.pyplot as plt\n",
    "import seaborn as sns"
   ]
  },
  {
   "cell_type": "markdown",
   "id": "8fc4472a-4354-4f2f-9615-8d5e012a51a5",
   "metadata": {},
   "source": [
    "## Loading Dataset"
   ]
  },
  {
   "cell_type": "code",
   "execution_count": 2,
   "id": "f9a86a91-b31d-4d45-b6b5-1a5ce3c956c0",
   "metadata": {},
   "outputs": [],
   "source": [
    "# Loading the dataset and perform splitting\n",
    "(x_train, y_train), (x_test, y_test) = mnist.load_data()"
   ]
  },
  {
   "cell_type": "markdown",
   "id": "c57cde89-ebd9-47ed-8fc1-02581bbe1abf",
   "metadata": {},
   "source": [
    "## Preprocessing"
   ]
  },
  {
   "cell_type": "code",
   "execution_count": 3,
   "id": "f37cd991-b093-4674-809a-9ea09066c7b2",
   "metadata": {},
   "outputs": [],
   "source": [
    "# Peforming reshaping operation\n",
    "x_train = x_train.reshape(x_train.shape[0], 28, 28, 1)\n",
    "x_test = x_test.reshape(x_test.shape[0], 28, 28, 1)\n",
    "\n",
    "# Normalization\n",
    "x_train = x_train / 255\n",
    "x_test = x_test / 255\n",
    "\n",
    "# One Hot Encoding\n",
    "y_train = keras.utils.to_categorical(y_train, 10)\n",
    "y_test = keras.utils.to_categorical(y_test, 10)"
   ]
  },
  {
   "cell_type": "markdown",
   "id": "0bcbf6b9-d1a1-453c-a455-2d5176465ee3",
   "metadata": {},
   "source": [
    "## Simple CNN Model"
   ]
  },
  {
   "cell_type": "markdown",
   "id": "9cf39f16-99d5-44cb-a726-d95a06630bdc",
   "metadata": {},
   "source": [
    "### Model Creation"
   ]
  },
  {
   "cell_type": "code",
   "execution_count": 4,
   "id": "8cfd9caf-ce20-43c4-90a7-bcdc1cbba3d3",
   "metadata": {},
   "outputs": [
    {
     "name": "stderr",
     "output_type": "stream",
     "text": [
      "C:\\Users\\Anurag Sunil\\AppData\\Roaming\\Python\\Python311\\site-packages\\keras\\src\\layers\\convolutional\\base_conv.py:107: UserWarning: Do not pass an `input_shape`/`input_dim` argument to a layer. When using Sequential models, prefer using an `Input(shape)` object as the first layer in the model instead.\n",
      "  super().__init__(activity_regularizer=activity_regularizer, **kwargs)\n"
     ]
    }
   ],
   "source": [
    "model = Sequential()\n",
    "model.add(Conv2D(32, kernel_size=(3, 3), activation='relu', input_shape=(28, 28, 1)))\n",
    "model.add(MaxPooling2D(pool_size=(2, 2)))\n",
    "model.add(Flatten())\n",
    "model.add(Dense(128, activation='relu'))\n",
    "model.add(Dense(10, activation='softmax'))"
   ]
  },
  {
   "cell_type": "markdown",
   "id": "73d4097b-4cd2-41ad-af80-5a3f1aa38f92",
   "metadata": {},
   "source": [
    "### Compiling"
   ]
  },
  {
   "cell_type": "code",
   "execution_count": 5,
   "id": "ea69e189-081e-4e44-a32d-e82b70b6f5a3",
   "metadata": {},
   "outputs": [],
   "source": [
    "model.compile(optimizer='adam', loss='categorical_crossentropy', metrics=['accuracy'])"
   ]
  },
  {
   "cell_type": "markdown",
   "id": "b6765dea-ad58-477c-83ab-9ca240fc62f9",
   "metadata": {},
   "source": [
    "### Fitting"
   ]
  },
  {
   "cell_type": "code",
   "execution_count": 6,
   "id": "fe0e8aa4-4806-4b70-a5c7-297ba5a5b302",
   "metadata": {},
   "outputs": [
    {
     "name": "stdout",
     "output_type": "stream",
     "text": [
      "Epoch 1/20\n",
      "\u001b[1m469/469\u001b[0m \u001b[32m━━━━━━━━━━━━━━━━━━━━\u001b[0m\u001b[37m\u001b[0m \u001b[1m5s\u001b[0m 8ms/step - accuracy: 0.8852 - loss: 0.4173 - val_accuracy: 0.9769 - val_loss: 0.0748\n",
      "Epoch 2/20\n",
      "\u001b[1m469/469\u001b[0m \u001b[32m━━━━━━━━━━━━━━━━━━━━\u001b[0m\u001b[37m\u001b[0m \u001b[1m3s\u001b[0m 7ms/step - accuracy: 0.9800 - loss: 0.0668 - val_accuracy: 0.9816 - val_loss: 0.0585\n",
      "Epoch 3/20\n",
      "\u001b[1m469/469\u001b[0m \u001b[32m━━━━━━━━━━━━━━━━━━━━\u001b[0m\u001b[37m\u001b[0m \u001b[1m3s\u001b[0m 7ms/step - accuracy: 0.9872 - loss: 0.0436 - val_accuracy: 0.9840 - val_loss: 0.0469\n",
      "Epoch 4/20\n",
      "\u001b[1m469/469\u001b[0m \u001b[32m━━━━━━━━━━━━━━━━━━━━\u001b[0m\u001b[37m\u001b[0m \u001b[1m3s\u001b[0m 7ms/step - accuracy: 0.9904 - loss: 0.0315 - val_accuracy: 0.9867 - val_loss: 0.0406\n",
      "Epoch 5/20\n",
      "\u001b[1m469/469\u001b[0m \u001b[32m━━━━━━━━━━━━━━━━━━━━\u001b[0m\u001b[37m\u001b[0m \u001b[1m3s\u001b[0m 7ms/step - accuracy: 0.9931 - loss: 0.0237 - val_accuracy: 0.9855 - val_loss: 0.0437\n",
      "Epoch 6/20\n",
      "\u001b[1m469/469\u001b[0m \u001b[32m━━━━━━━━━━━━━━━━━━━━\u001b[0m\u001b[37m\u001b[0m \u001b[1m3s\u001b[0m 7ms/step - accuracy: 0.9949 - loss: 0.0171 - val_accuracy: 0.9837 - val_loss: 0.0491\n",
      "Epoch 7/20\n",
      "\u001b[1m469/469\u001b[0m \u001b[32m━━━━━━━━━━━━━━━━━━━━\u001b[0m\u001b[37m\u001b[0m \u001b[1m3s\u001b[0m 7ms/step - accuracy: 0.9970 - loss: 0.0114 - val_accuracy: 0.9861 - val_loss: 0.0417\n",
      "Epoch 8/20\n",
      "\u001b[1m469/469\u001b[0m \u001b[32m━━━━━━━━━━━━━━━━━━━━\u001b[0m\u001b[37m\u001b[0m \u001b[1m3s\u001b[0m 7ms/step - accuracy: 0.9979 - loss: 0.0089 - val_accuracy: 0.9857 - val_loss: 0.0448\n",
      "Epoch 9/20\n",
      "\u001b[1m469/469\u001b[0m \u001b[32m━━━━━━━━━━━━━━━━━━━━\u001b[0m\u001b[37m\u001b[0m \u001b[1m3s\u001b[0m 7ms/step - accuracy: 0.9978 - loss: 0.0074 - val_accuracy: 0.9869 - val_loss: 0.0462\n",
      "Epoch 10/20\n",
      "\u001b[1m469/469\u001b[0m \u001b[32m━━━━━━━━━━━━━━━━━━━━\u001b[0m\u001b[37m\u001b[0m \u001b[1m3s\u001b[0m 7ms/step - accuracy: 0.9980 - loss: 0.0060 - val_accuracy: 0.9862 - val_loss: 0.0447\n",
      "Epoch 11/20\n",
      "\u001b[1m469/469\u001b[0m \u001b[32m━━━━━━━━━━━━━━━━━━━━\u001b[0m\u001b[37m\u001b[0m \u001b[1m3s\u001b[0m 7ms/step - accuracy: 0.9984 - loss: 0.0052 - val_accuracy: 0.9881 - val_loss: 0.0416\n",
      "Epoch 12/20\n",
      "\u001b[1m469/469\u001b[0m \u001b[32m━━━━━━━━━━━━━━━━━━━━\u001b[0m\u001b[37m\u001b[0m \u001b[1m3s\u001b[0m 7ms/step - accuracy: 0.9991 - loss: 0.0039 - val_accuracy: 0.9871 - val_loss: 0.0489\n",
      "Epoch 13/20\n",
      "\u001b[1m469/469\u001b[0m \u001b[32m━━━━━━━━━━━━━━━━━━━━\u001b[0m\u001b[37m\u001b[0m \u001b[1m4s\u001b[0m 7ms/step - accuracy: 0.9992 - loss: 0.0031 - val_accuracy: 0.9878 - val_loss: 0.0500\n",
      "Epoch 14/20\n",
      "\u001b[1m469/469\u001b[0m \u001b[32m━━━━━━━━━━━━━━━━━━━━\u001b[0m\u001b[37m\u001b[0m \u001b[1m4s\u001b[0m 7ms/step - accuracy: 0.9996 - loss: 0.0017 - val_accuracy: 0.9868 - val_loss: 0.0527\n",
      "Epoch 15/20\n",
      "\u001b[1m469/469\u001b[0m \u001b[32m━━━━━━━━━━━━━━━━━━━━\u001b[0m\u001b[37m\u001b[0m \u001b[1m4s\u001b[0m 7ms/step - accuracy: 0.9984 - loss: 0.0047 - val_accuracy: 0.9881 - val_loss: 0.0453\n",
      "Epoch 16/20\n",
      "\u001b[1m469/469\u001b[0m \u001b[32m━━━━━━━━━━━━━━━━━━━━\u001b[0m\u001b[37m\u001b[0m \u001b[1m4s\u001b[0m 7ms/step - accuracy: 0.9984 - loss: 0.0048 - val_accuracy: 0.9866 - val_loss: 0.0558\n",
      "Epoch 17/20\n",
      "\u001b[1m469/469\u001b[0m \u001b[32m━━━━━━━━━━━━━━━━━━━━\u001b[0m\u001b[37m\u001b[0m \u001b[1m4s\u001b[0m 8ms/step - accuracy: 0.9994 - loss: 0.0023 - val_accuracy: 0.9891 - val_loss: 0.0456\n",
      "Epoch 18/20\n",
      "\u001b[1m469/469\u001b[0m \u001b[32m━━━━━━━━━━━━━━━━━━━━\u001b[0m\u001b[37m\u001b[0m \u001b[1m4s\u001b[0m 8ms/step - accuracy: 0.9997 - loss: 0.0014 - val_accuracy: 0.9851 - val_loss: 0.0677\n",
      "Epoch 19/20\n",
      "\u001b[1m469/469\u001b[0m \u001b[32m━━━━━━━━━━━━━━━━━━━━\u001b[0m\u001b[37m\u001b[0m \u001b[1m4s\u001b[0m 7ms/step - accuracy: 0.9986 - loss: 0.0042 - val_accuracy: 0.9879 - val_loss: 0.0505\n",
      "Epoch 20/20\n",
      "\u001b[1m469/469\u001b[0m \u001b[32m━━━━━━━━━━━━━━━━━━━━\u001b[0m\u001b[37m\u001b[0m \u001b[1m4s\u001b[0m 7ms/step - accuracy: 0.9999 - loss: 7.2790e-04 - val_accuracy: 0.9885 - val_loss: 0.0530\n"
     ]
    },
    {
     "data": {
      "text/plain": [
       "<keras.src.callbacks.history.History at 0x28548a7eb50>"
      ]
     },
     "execution_count": 6,
     "metadata": {},
     "output_type": "execute_result"
    }
   ],
   "source": [
    "# Train the model\n",
    "model.fit(x_train, y_train, batch_size=128, epochs=20, verbose=1, validation_data=(x_test, y_test))"
   ]
  },
  {
   "cell_type": "markdown",
   "id": "9f24c8a4-5883-4072-bdbb-91e77ffca3ad",
   "metadata": {},
   "source": [
    "### Evaluating"
   ]
  },
  {
   "cell_type": "code",
   "execution_count": 7,
   "id": "f8f97ffb-00b0-4fd8-a103-cd3dd7f0a31a",
   "metadata": {},
   "outputs": [
    {
     "name": "stdout",
     "output_type": "stream",
     "text": [
      "Test accuracy: 98.85%\n"
     ]
    }
   ],
   "source": [
    "# Evaluate the model\n",
    "scores = model.evaluate(x_test, y_test, verbose=0)\n",
    "print(f\"Test accuracy: {scores[1]*100:.2f}%\")"
   ]
  },
  {
   "cell_type": "markdown",
   "id": "3e8a50eb-98de-4d17-92a9-1de7efe8272a",
   "metadata": {},
   "source": [
    "### Predicting"
   ]
  },
  {
   "cell_type": "code",
   "execution_count": 9,
   "id": "4f1b877f-cc66-4874-a284-c861cff2544c",
   "metadata": {},
   "outputs": [
    {
     "name": "stdout",
     "output_type": "stream",
     "text": [
      "\u001b[1m313/313\u001b[0m \u001b[32m━━━━━━━━━━━━━━━━━━━━\u001b[0m\u001b[37m\u001b[0m \u001b[1m0s\u001b[0m 1ms/step\n"
     ]
    }
   ],
   "source": [
    "# Predict the probabilities for the test set\n",
    "predictions = model.predict(x_test)\n",
    "\n",
    "# Convert the probabilities to class labels\n",
    "predicted_classes = np.argmax(predictions, axis=1)"
   ]
  },
  {
   "cell_type": "code",
   "execution_count": 10,
   "id": "78d9487e-1597-43e4-9c95-7f5d8df2eb91",
   "metadata": {},
   "outputs": [
    {
     "data": {
      "image/png": "[encoded data removed]",
      "text/plain": [
       "<Figure size 640x480 with 1 Axes>"
      ]
     },
     "metadata": {},
     "output_type": "display_data"
    }
   ],
   "source": [
    "# Select an index to display an example\n",
    "index = 0  # Change this to see different examples\n",
    "\n",
    "# Display the image\n",
    "plt.imshow(x_test[index].reshape(28, 28), cmap='Greys')\n",
    "plt.title(f\"Predicted: {predicted_classes[index]}, True: {np.argmax(y_test[index])}\")\n",
    "plt.show()"
   ]
  },
  {
   "cell_type": "markdown",
   "id": "155e3f69-17d1-496a-9468-13797db4453a",
   "metadata": {},
   "source": [
    "## LeNet Model (Classical Model)"
   ]
  },
  {
   "cell_type": "markdown",
   "id": "a56dd505-5f23-41b6-835d-a85f31ea5001",
   "metadata": {},
   "source": [
    "### Model Creation"
   ]
  },
  {
   "cell_type": "code",
   "execution_count": 11,
   "id": "410d5171-6d05-4776-a0f2-8a30edacfe3f",
   "metadata": {},
   "outputs": [],
   "source": [
    "# Define the LeNet-5 model architecture\n",
    "LeNet_Model = Sequential()\n",
    "LeNet_Model.add(Conv2D(6, kernel_size=(5, 5), activation='relu', input_shape=(28, 28, 1)))\n",
    "LeNet_Model.add(MaxPooling2D(pool_size=(2, 2)))\n",
    "LeNet_Model.add(Conv2D(16, kernel_size=(5, 5), activation='relu'))\n",
    "LeNet_Model.add(MaxPooling2D(pool_size=(2, 2)))\n",
    "LeNet_Model.add(Flatten())\n",
    "LeNet_Model.add(Dense(120, activation='relu'))\n",
    "LeNet_Model.add(Dense(84, activation='relu'))\n",
    "LeNet_Model.add(Dense(10, activation='softmax'))"
   ]
  },
  {
   "cell_type": "markdown",
   "id": "635f5351-052d-4e66-a643-24b63fdd2bef",
   "metadata": {},
   "source": [
    "### Compiling"
   ]
  },
  {
   "cell_type": "code",
   "execution_count": 12,
   "id": "e4a1e9a0-baaa-4c52-bfdb-32bee57a00f3",
   "metadata": {},
   "outputs": [],
   "source": [
    "# Compile the model\n",
    "LeNet_Model.compile(loss='categorical_crossentropy', optimizer=keras.optimizers.Adam(), metrics=['accuracy'])"
   ]
  },
  {
   "cell_type": "markdown",
   "id": "02ff5000-3e14-47fe-8b1a-ebc6cce9e5a4",
   "metadata": {},
   "source": [
    "### Fitting"
   ]
  },
  {
   "cell_type": "code",
   "execution_count": 13,
   "id": "64a8fa36-d69d-4940-b32c-82949a04296e",
   "metadata": {},
   "outputs": [
    {
     "name": "stdout",
     "output_type": "stream",
     "text": [
      "Epoch 1/20\n",
      "\u001b[1m469/469\u001b[0m \u001b[32m━━━━━━━━━━━━━━━━━━━━\u001b[0m\u001b[37m\u001b[0m \u001b[1m3s\u001b[0m 4ms/step - accuracy: 0.8024 - loss: 0.6819 - val_accuracy: 0.9733 - val_loss: 0.0853\n",
      "Epoch 2/20\n",
      "\u001b[1m469/469\u001b[0m \u001b[32m━━━━━━━━━━━━━━━━━━━━\u001b[0m\u001b[37m\u001b[0m \u001b[1m2s\u001b[0m 3ms/step - accuracy: 0.9698 - loss: 0.0962 - val_accuracy: 0.9817 - val_loss: 0.0574\n",
      "Epoch 3/20\n",
      "\u001b[1m469/469\u001b[0m \u001b[32m━━━━━━━━━━━━━━━━━━━━\u001b[0m\u001b[37m\u001b[0m \u001b[1m2s\u001b[0m 3ms/step - accuracy: 0.9807 - loss: 0.0651 - val_accuracy: 0.9836 - val_loss: 0.0513\n",
      "Epoch 4/20\n",
      "\u001b[1m469/469\u001b[0m \u001b[32m━━━━━━━━━━━━━━━━━━━━\u001b[0m\u001b[37m\u001b[0m \u001b[1m2s\u001b[0m 3ms/step - accuracy: 0.9840 - loss: 0.0511 - val_accuracy: 0.9817 - val_loss: 0.0541\n",
      "Epoch 5/20\n",
      "\u001b[1m469/469\u001b[0m \u001b[32m━━━━━━━━━━━━━━━━━━━━\u001b[0m\u001b[37m\u001b[0m \u001b[1m2s\u001b[0m 3ms/step - accuracy: 0.9857 - loss: 0.0457 - val_accuracy: 0.9860 - val_loss: 0.0452\n",
      "Epoch 6/20\n",
      "\u001b[1m469/469\u001b[0m \u001b[32m━━━━━━━━━━━━━━━━━━━━\u001b[0m\u001b[37m\u001b[0m \u001b[1m2s\u001b[0m 3ms/step - accuracy: 0.9893 - loss: 0.0340 - val_accuracy: 0.9885 - val_loss: 0.0356\n",
      "Epoch 7/20\n",
      "\u001b[1m469/469\u001b[0m \u001b[32m━━━━━━━━━━━━━━━━━━━━\u001b[0m\u001b[37m\u001b[0m \u001b[1m2s\u001b[0m 3ms/step - accuracy: 0.9906 - loss: 0.0284 - val_accuracy: 0.9886 - val_loss: 0.0341\n",
      "Epoch 8/20\n",
      "\u001b[1m469/469\u001b[0m \u001b[32m━━━━━━━━━━━━━━━━━━━━\u001b[0m\u001b[37m\u001b[0m \u001b[1m1s\u001b[0m 3ms/step - accuracy: 0.9916 - loss: 0.0256 - val_accuracy: 0.9856 - val_loss: 0.0421\n",
      "Epoch 9/20\n",
      "\u001b[1m469/469\u001b[0m \u001b[32m━━━━━━━━━━━━━━━━━━━━\u001b[0m\u001b[37m\u001b[0m \u001b[1m1s\u001b[0m 3ms/step - accuracy: 0.9917 - loss: 0.0243 - val_accuracy: 0.9846 - val_loss: 0.0440\n",
      "Epoch 10/20\n",
      "\u001b[1m469/469\u001b[0m \u001b[32m━━━━━━━━━━━━━━━━━━━━\u001b[0m\u001b[37m\u001b[0m \u001b[1m2s\u001b[0m 3ms/step - accuracy: 0.9930 - loss: 0.0206 - val_accuracy: 0.9901 - val_loss: 0.0323\n",
      "Epoch 11/20\n",
      "\u001b[1m469/469\u001b[0m \u001b[32m━━━━━━━━━━━━━━━━━━━━\u001b[0m\u001b[37m\u001b[0m \u001b[1m2s\u001b[0m 3ms/step - accuracy: 0.9942 - loss: 0.0168 - val_accuracy: 0.9882 - val_loss: 0.0388\n",
      "Epoch 12/20\n",
      "\u001b[1m469/469\u001b[0m \u001b[32m━━━━━━━━━━━━━━━━━━━━\u001b[0m\u001b[37m\u001b[0m \u001b[1m2s\u001b[0m 3ms/step - accuracy: 0.9953 - loss: 0.0146 - val_accuracy: 0.9875 - val_loss: 0.0401\n",
      "Epoch 13/20\n",
      "\u001b[1m469/469\u001b[0m \u001b[32m━━━━━━━━━━━━━━━━━━━━\u001b[0m\u001b[37m\u001b[0m \u001b[1m2s\u001b[0m 3ms/step - accuracy: 0.9955 - loss: 0.0146 - val_accuracy: 0.9861 - val_loss: 0.0480\n",
      "Epoch 14/20\n",
      "\u001b[1m469/469\u001b[0m \u001b[32m━━━━━━━━━━━━━━━━━━━━\u001b[0m\u001b[37m\u001b[0m \u001b[1m2s\u001b[0m 3ms/step - accuracy: 0.9954 - loss: 0.0142 - val_accuracy: 0.9905 - val_loss: 0.0308\n",
      "Epoch 15/20\n",
      "\u001b[1m469/469\u001b[0m \u001b[32m━━━━━━━━━━━━━━━━━━━━\u001b[0m\u001b[37m\u001b[0m \u001b[1m2s\u001b[0m 3ms/step - accuracy: 0.9966 - loss: 0.0104 - val_accuracy: 0.9899 - val_loss: 0.0378\n",
      "Epoch 16/20\n",
      "\u001b[1m469/469\u001b[0m \u001b[32m━━━━━━━━━━━━━━━━━━━━\u001b[0m\u001b[37m\u001b[0m \u001b[1m2s\u001b[0m 3ms/step - accuracy: 0.9963 - loss: 0.0111 - val_accuracy: 0.9888 - val_loss: 0.0384\n",
      "Epoch 17/20\n",
      "\u001b[1m469/469\u001b[0m \u001b[32m━━━━━━━━━━━━━━━━━━━━\u001b[0m\u001b[37m\u001b[0m \u001b[1m2s\u001b[0m 3ms/step - accuracy: 0.9965 - loss: 0.0105 - val_accuracy: 0.9912 - val_loss: 0.0333\n",
      "Epoch 18/20\n",
      "\u001b[1m469/469\u001b[0m \u001b[32m━━━━━━━━━━━━━━━━━━━━\u001b[0m\u001b[37m\u001b[0m \u001b[1m2s\u001b[0m 3ms/step - accuracy: 0.9976 - loss: 0.0077 - val_accuracy: 0.9893 - val_loss: 0.0418\n",
      "Epoch 19/20\n",
      "\u001b[1m469/469\u001b[0m \u001b[32m━━━━━━━━━━━━━━━━━━━━\u001b[0m\u001b[37m\u001b[0m \u001b[1m2s\u001b[0m 3ms/step - accuracy: 0.9974 - loss: 0.0077 - val_accuracy: 0.9882 - val_loss: 0.0442\n",
      "Epoch 20/20\n",
      "\u001b[1m469/469\u001b[0m \u001b[32m━━━━━━━━━━━━━━━━━━━━\u001b[0m\u001b[37m\u001b[0m \u001b[1m2s\u001b[0m 3ms/step - accuracy: 0.9978 - loss: 0.0074 - val_accuracy: 0.9899 - val_loss: 0.0433\n"
     ]
    },
    {
     "data": {
      "text/plain": [
       "<keras.src.callbacks.history.History at 0x2856ccbb990>"
      ]
     },
     "execution_count": 13,
     "metadata": {},
     "output_type": "execute_result"
    }
   ],
   "source": [
    "# Train the model\n",
    "LeNet_Model.fit(x_train, y_train, batch_size=128, epochs=20, verbose=1, validation_data=(x_test, y_test))"
   ]
  },
  {
   "cell_type": "markdown",
   "id": "61109061-dbff-470f-9ea6-663147c5229c",
   "metadata": {},
   "source": [
    "### Evaluating"
   ]
  },
  {
   "cell_type": "code",
   "execution_count": 15,
   "id": "5ff91a26-6fb6-4c43-a926-5ece2f9efd5c",
   "metadata": {},
   "outputs": [
    {
     "name": "stdout",
     "output_type": "stream",
     "text": [
      "Test accuracy: 98.99%\n"
     ]
    }
   ],
   "source": [
    "# Evaluate the model\n",
    "scores = LeNet_Model.evaluate(x_test, y_test, verbose=0)\n",
    "print(f\"Test accuracy: {scores[1]*100:.2f}%\")"
   ]
  },
  {
   "cell_type": "markdown",
   "id": "0487f011-0e03-4018-bfdf-a0e1724d911e",
   "metadata": {},
   "source": [
    "### Predicting"
   ]
  },
  {
   "cell_type": "code",
   "execution_count": 16,
   "id": "794a71bd-d2bd-4854-b07b-736913fbe971",
   "metadata": {},
   "outputs": [
    {
     "name": "stdout",
     "output_type": "stream",
     "text": [
      "\u001b[1m313/313\u001b[0m \u001b[32m━━━━━━━━━━━━━━━━━━━━\u001b[0m\u001b[37m\u001b[0m \u001b[1m0s\u001b[0m 1ms/step\n"
     ]
    }
   ],
   "source": [
    "# Predict the probabilities for the test set\n",
    "predictions = LeNet_Model.predict(x_test)\n",
    "\n",
    "# Convert the probabilities to class labels\n",
    "predicted_classes = np.argmax(predictions, axis=1)"
   ]
  },
  {
   "cell_type": "code",
   "execution_count": 17,
   "id": "afe69ac5-a99d-4e2c-9860-358c2fe41863",
   "metadata": {},
   "outputs": [
    {
     "data": {
      "image/png": "[encoded data removed]",
      "text/plain": [
       "<Figure size 640x480 with 1 Axes>"
      ]
     },
     "metadata": {},
     "output_type": "display_data"
    }
   ],
   "source": [
    "# Select an index to display an example\n",
    "index = 21  # Change this to see different examples\n",
    "\n",
    "# Display the image\n",
    "plt.imshow(x_test[index].reshape(28, 28), cmap='Greys')\n",
    "plt.title(f\"Predicted: {predicted_classes[index]}, True: {np.argmax(y_test[index])}\")\n",
    "plt.show()"
   ]
  },
  {
   "cell_type": "code",
   "execution_count": 18,
   "id": "d948f47b-81a7-4f4d-a390-f213f9ceca0b",
   "metadata": {},
   "outputs": [
    {
     "name": "stdout",
     "output_type": "stream",
     "text": [
      "Predicted label: 6\n",
      "True label: 6\n"
     ]
    }
   ],
   "source": [
    "# Print the predicted and true label\n",
    "print(f\"Predicted label: {predicted_classes[index]}\")\n",
    "print(f\"True label: {np.argmax(y_test[index])}\")"
   ]
  },
  {
   "cell_type": "markdown",
   "id": "a1653c17-2da4-4f46-8f66-55c143c12c28",
   "metadata": {},
   "source": [
    "## Deeper CNN Model"
   ]
  },
  {
   "cell_type": "markdown",
   "id": "013f7819-ed63-4081-b362-0b7007aea867",
   "metadata": {},
   "source": [
    "### Model Creation"
   ]
  },
  {
   "cell_type": "code",
   "execution_count": 19,
   "id": "410ccda5-0b06-484d-a4d3-09ee7d0a16fa",
   "metadata": {},
   "outputs": [],
   "source": [
    "Deeper_Model = Sequential()\n",
    "Deeper_Model.add(Conv2D(32, kernel_size=(3, 3), activation='relu', input_shape=(28, 28, 1)))\n",
    "Deeper_Model.add(Conv2D(64, kernel_size=(3, 3), activation='relu'))\n",
    "Deeper_Model.add(MaxPooling2D(pool_size=(2, 2)))\n",
    "Deeper_Model.add(Flatten())\n",
    "Deeper_Model.add(Dense(128, activation='relu'))\n",
    "Deeper_Model.add(Dense(10, activation='softmax'))"
   ]
  },
  {
   "cell_type": "markdown",
   "id": "a98f1686-c382-47d2-b11b-6c467eca360d",
   "metadata": {},
   "source": [
    "### Compiling"
   ]
  },
  {
   "cell_type": "code",
   "execution_count": 20,
   "id": "06037442-2b3d-4057-a5fb-06ca38b70890",
   "metadata": {},
   "outputs": [],
   "source": [
    "Deeper_Model.compile(optimizer='adam', loss='categorical_crossentropy', metrics=['accuracy'])"
   ]
  },
  {
   "cell_type": "markdown",
   "id": "945aff38-cd7f-46a9-ae98-130aa3f923b4",
   "metadata": {},
   "source": [
    "### Fitting"
   ]
  },
  {
   "cell_type": "code",
   "execution_count": 21,
   "id": "ac5e06e6-9e56-4c4e-8fdb-cdf444d0328e",
   "metadata": {},
   "outputs": [
    {
     "name": "stdout",
     "output_type": "stream",
     "text": [
      "Epoch 1/20\n",
      "\u001b[1m469/469\u001b[0m \u001b[32m━━━━━━━━━━━━━━━━━━━━\u001b[0m\u001b[37m\u001b[0m \u001b[1m15s\u001b[0m 30ms/step - accuracy: 0.8889 - loss: 0.3569 - val_accuracy: 0.9853 - val_loss: 0.0430\n",
      "Epoch 2/20\n",
      "\u001b[1m469/469\u001b[0m \u001b[32m━━━━━━━━━━━━━━━━━━━━\u001b[0m\u001b[37m\u001b[0m \u001b[1m14s\u001b[0m 30ms/step - accuracy: 0.9860 - loss: 0.0457 - val_accuracy: 0.9886 - val_loss: 0.0359\n",
      "Epoch 3/20\n",
      "\u001b[1m469/469\u001b[0m \u001b[32m━━━━━━━━━━━━━━━━━━━━\u001b[0m\u001b[37m\u001b[0m \u001b[1m14s\u001b[0m 31ms/step - accuracy: 0.9916 - loss: 0.0276 - val_accuracy: 0.9894 - val_loss: 0.0327\n",
      "Epoch 4/20\n",
      "\u001b[1m469/469\u001b[0m \u001b[32m━━━━━━━━━━━━━━━━━━━━\u001b[0m\u001b[37m\u001b[0m \u001b[1m14s\u001b[0m 31ms/step - accuracy: 0.9942 - loss: 0.0180 - val_accuracy: 0.9891 - val_loss: 0.0304\n",
      "Epoch 5/20\n",
      "\u001b[1m469/469\u001b[0m \u001b[32m━━━━━━━━━━━━━━━━━━━━\u001b[0m\u001b[37m\u001b[0m \u001b[1m14s\u001b[0m 30ms/step - accuracy: 0.9963 - loss: 0.0121 - val_accuracy: 0.9886 - val_loss: 0.0367\n",
      "Epoch 6/20\n",
      "\u001b[1m469/469\u001b[0m \u001b[32m━━━━━━━━━━━━━━━━━━━━\u001b[0m\u001b[37m\u001b[0m \u001b[1m14s\u001b[0m 31ms/step - accuracy: 0.9970 - loss: 0.0095 - val_accuracy: 0.9901 - val_loss: 0.0339\n",
      "Epoch 7/20\n",
      "\u001b[1m469/469\u001b[0m \u001b[32m━━━━━━━━━━━━━━━━━━━━\u001b[0m\u001b[37m\u001b[0m \u001b[1m14s\u001b[0m 31ms/step - accuracy: 0.9980 - loss: 0.0068 - val_accuracy: 0.9900 - val_loss: 0.0401\n",
      "Epoch 8/20\n",
      "\u001b[1m469/469\u001b[0m \u001b[32m━━━━━━━━━━━━━━━━━━━━\u001b[0m\u001b[37m\u001b[0m \u001b[1m15s\u001b[0m 31ms/step - accuracy: 0.9973 - loss: 0.0078 - val_accuracy: 0.9903 - val_loss: 0.0385\n",
      "Epoch 9/20\n",
      "\u001b[1m469/469\u001b[0m \u001b[32m━━━━━━━━━━━━━━━━━━━━\u001b[0m\u001b[37m\u001b[0m \u001b[1m15s\u001b[0m 31ms/step - accuracy: 0.9986 - loss: 0.0040 - val_accuracy: 0.9875 - val_loss: 0.0519\n",
      "Epoch 10/20\n",
      "\u001b[1m469/469\u001b[0m \u001b[32m━━━━━━━━━━━━━━━━━━━━\u001b[0m\u001b[37m\u001b[0m \u001b[1m15s\u001b[0m 31ms/step - accuracy: 0.9978 - loss: 0.0064 - val_accuracy: 0.9914 - val_loss: 0.0303\n",
      "Epoch 11/20\n",
      "\u001b[1m469/469\u001b[0m \u001b[32m━━━━━━━━━━━━━━━━━━━━\u001b[0m\u001b[37m\u001b[0m \u001b[1m15s\u001b[0m 31ms/step - accuracy: 0.9992 - loss: 0.0021 - val_accuracy: 0.9900 - val_loss: 0.0401\n",
      "Epoch 12/20\n",
      "\u001b[1m469/469\u001b[0m \u001b[32m━━━━━━━━━━━━━━━━━━━━\u001b[0m\u001b[37m\u001b[0m \u001b[1m15s\u001b[0m 31ms/step - accuracy: 0.9984 - loss: 0.0046 - val_accuracy: 0.9888 - val_loss: 0.0422\n",
      "Epoch 13/20\n",
      "\u001b[1m469/469\u001b[0m \u001b[32m━━━━━━━━━━━━━━━━━━━━\u001b[0m\u001b[37m\u001b[0m \u001b[1m15s\u001b[0m 31ms/step - accuracy: 0.9990 - loss: 0.0031 - val_accuracy: 0.9893 - val_loss: 0.0509\n",
      "Epoch 14/20\n",
      "\u001b[1m469/469\u001b[0m \u001b[32m━━━━━━━━━━━━━━━━━━━━\u001b[0m\u001b[37m\u001b[0m \u001b[1m15s\u001b[0m 31ms/step - accuracy: 0.9986 - loss: 0.0037 - val_accuracy: 0.9895 - val_loss: 0.0439\n",
      "Epoch 15/20\n",
      "\u001b[1m469/469\u001b[0m \u001b[32m━━━━━━━━━━━━━━━━━━━━\u001b[0m\u001b[37m\u001b[0m \u001b[1m15s\u001b[0m 31ms/step - accuracy: 0.9991 - loss: 0.0024 - val_accuracy: 0.9908 - val_loss: 0.0420\n",
      "Epoch 16/20\n",
      "\u001b[1m469/469\u001b[0m \u001b[32m━━━━━━━━━━━━━━━━━━━━\u001b[0m\u001b[37m\u001b[0m \u001b[1m15s\u001b[0m 31ms/step - accuracy: 0.9999 - loss: 7.0350e-04 - val_accuracy: 0.9918 - val_loss: 0.0424\n",
      "Epoch 17/20\n",
      "\u001b[1m469/469\u001b[0m \u001b[32m━━━━━━━━━━━━━━━━━━━━\u001b[0m\u001b[37m\u001b[0m \u001b[1m15s\u001b[0m 32ms/step - accuracy: 0.9990 - loss: 0.0028 - val_accuracy: 0.9908 - val_loss: 0.0501\n",
      "Epoch 18/20\n",
      "\u001b[1m469/469\u001b[0m \u001b[32m━━━━━━━━━━━━━━━━━━━━\u001b[0m\u001b[37m\u001b[0m \u001b[1m15s\u001b[0m 31ms/step - accuracy: 0.9991 - loss: 0.0032 - val_accuracy: 0.9918 - val_loss: 0.0399\n",
      "Epoch 19/20\n",
      "\u001b[1m469/469\u001b[0m \u001b[32m━━━━━━━━━━━━━━━━━━━━\u001b[0m\u001b[37m\u001b[0m \u001b[1m15s\u001b[0m 31ms/step - accuracy: 0.9995 - loss: 0.0018 - val_accuracy: 0.9909 - val_loss: 0.0453\n",
      "Epoch 20/20\n",
      "\u001b[1m469/469\u001b[0m \u001b[32m━━━━━━━━━━━━━━━━━━━━\u001b[0m\u001b[37m\u001b[0m \u001b[1m15s\u001b[0m 32ms/step - accuracy: 0.9998 - loss: 5.9815e-04 - val_accuracy: 0.9903 - val_loss: 0.0609\n"
     ]
    },
    {
     "data": {
      "text/plain": [
       "<keras.src.callbacks.history.History at 0x2856e869bd0>"
      ]
     },
     "execution_count": 21,
     "metadata": {},
     "output_type": "execute_result"
    }
   ],
   "source": [
    "# Train the model\n",
    "Deeper_Model.fit(x_train, y_train, batch_size=128, epochs=20, verbose=1, validation_data=(x_test, y_test))"
   ]
  },
  {
   "cell_type": "markdown",
   "id": "b96a5596-3cf5-427f-8220-5c1199dd7d1c",
   "metadata": {},
   "source": [
    "### Evaluating"
   ]
  },
  {
   "cell_type": "code",
   "execution_count": 22,
   "id": "9d02ce0e-3b74-46be-a911-05f236370761",
   "metadata": {},
   "outputs": [
    {
     "name": "stdout",
     "output_type": "stream",
     "text": [
      "Test accuracy: 99.03%\n"
     ]
    }
   ],
   "source": [
    "# Evaluate the model\n",
    "scores = Deeper_Model.evaluate(x_test, y_test, verbose=0)\n",
    "print(f\"Test accuracy: {scores[1]*100:.2f}%\")"
   ]
  },
  {
   "cell_type": "markdown",
   "id": "90908e6a-9a15-46f6-8b15-42b17b63f558",
   "metadata": {},
   "source": [
    "### Predicting"
   ]
  },
  {
   "cell_type": "code",
   "execution_count": 24,
   "id": "498ec17f-5f69-437b-8196-27ed5e4155d5",
   "metadata": {},
   "outputs": [
    {
     "name": "stdout",
     "output_type": "stream",
     "text": [
      "\u001b[1m313/313\u001b[0m \u001b[32m━━━━━━━━━━━━━━━━━━━━\u001b[0m\u001b[37m\u001b[0m \u001b[1m1s\u001b[0m 3ms/step\n"
     ]
    }
   ],
   "source": [
    "# Predict the probabilities for the test set\n",
    "predictions =Deeper_Model.predict(x_test)\n",
    "\n",
    "# Convert the probabilities to class labels\n",
    "predicted_classes = np.argmax(predictions, axis=1)"
   ]
  },
  {
   "cell_type": "code",
   "execution_count": 26,
   "id": "39a5ee28-2b2a-4bd8-9332-33218048d622",
   "metadata": {},
   "outputs": [
    {
     "data": {
      "image/png": "[encoded data removed]",
      "text/plain": [
       "<Figure size 640x480 with 1 Axes>"
      ]
     },
     "metadata": {},
     "output_type": "display_data"
    }
   ],
   "source": [
    "# Select an index to display an example\n",
    "index = 98# Change this to see different examples\n",
    "\n",
    "# Display the image\n",
    "plt.imshow(x_test[index].reshape(28, 28), cmap='Greys')\n",
    "plt.title(f\"Predicted: {predicted_classes[index]}, True: {np.argmax(y_test[index])}\")\n",
    "plt.show()"
   ]
  },
  {
   "cell_type": "code",
   "execution_count": 27,
   "id": "c2ef8554-1d26-4f91-9416-a53347b5b065",
   "metadata": {},
   "outputs": [
    {
     "name": "stdout",
     "output_type": "stream",
     "text": [
      "Predicted label: 6\n",
      "True label: 6\n"
     ]
    }
   ],
   "source": [
    "# Print the predicted and true label\n",
    "print(f\"Predicted label: {predicted_classes[index]}\")\n",
    "print(f\"True label: {np.argmax(y_test[index])}\")"
   ]
  }
 ],
 "metadata": {
  "kernelspec": {
   "display_name": "Python 3 (ipykernel)",
   "language": "python",
   "name": "python3"
  },
  "language_info": {
   "codemirror_mode": {
    "name": "ipython",
    "version": 3
   },
   "file_extension": ".py",
   "mimetype": "text/x-python",
   "name": "python",
   "nbconvert_exporter": "python",
   "pygments_lexer": "ipython3",
   "version": "3.11.7"
  }
 },
 "nbformat": 4,
 "nbformat_minor": 5
}
