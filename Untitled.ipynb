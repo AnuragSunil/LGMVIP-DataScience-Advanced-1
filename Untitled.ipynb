{
 "cells": [
  {
   "cell_type": "markdown",
   "id": "b137976b-3b97-4e48-b1e0-69794f8ba23d",
   "metadata": {},
   "source": [
    "MNIST Neural Network Project"
   ]
  },
  {
   "cell_type": "code",
   "execution_count": 1,
   "id": "dcce111a-e577-435a-8135-21c8b9e32c9c",
   "metadata": {},
   "outputs": [],
   "source": [
    "import pandas as pd\n",
    "import numpy as np\n",
    "import matplotlib.pyplot as plt\n",
    "import seaborn as sns"
   ]
  },
  {
   "cell_type": "code",
   "execution_count": null,
   "id": "f9a86a91-b31d-4d45-b6b5-1a5ce3c956c0",
   "metadata": {},
   "outputs": [],
   "source": []
  }
 ],
 "metadata": {
  "kernelspec": {
   "display_name": "Python 3 (ipykernel)",
   "language": "python",
   "name": "python3"
  },
  "language_info": {
   "codemirror_mode": {
    "name": "ipython",
    "version": 3
   },
   "file_extension": ".py",
   "mimetype": "text/x-python",
   "name": "python",
   "nbconvert_exporter": "python",
   "pygments_lexer": "ipython3",
   "version": "3.11.7"
  }
 },
 "nbformat": 4,
 "nbformat_minor": 5
}
